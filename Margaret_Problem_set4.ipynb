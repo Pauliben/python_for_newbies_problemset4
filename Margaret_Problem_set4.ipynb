{
 "cells": [
  {
   "cell_type": "markdown",
   "id": "4790335c-f114-4413-8b63-d8751d79a461",
   "metadata": {},
   "source": [
    "# Problem Set 4 -- Energi Data Service\n",
    "\n",
    "## API link: https://www.energidataservice.dk/tso-electricity/CO2Emis"
   ]
  },
  {
   "cell_type": "code",
   "execution_count": 1,
   "id": "1eb00f91-221d-4663-8d1d-5987aed7c8cb",
   "metadata": {},
   "outputs": [
    {
     "name": "stdout",
     "output_type": "stream",
     "text": [
      "                 Minutes5DK          Minutes5UTC PriceArea  CO2Emission  \\\n",
      "0       2022-11-02T14:45:00  2022-11-02T13:45:00       DK1         71.0   \n",
      "1       2022-11-02T14:45:00  2022-11-02T13:45:00       DK2         71.0   \n",
      "2       2022-11-02T14:40:00  2022-11-02T13:40:00       DK1         69.0   \n",
      "3       2022-11-02T14:40:00  2022-11-02T13:40:00       DK2         69.0   \n",
      "4       2022-11-02T14:35:00  2022-11-02T13:35:00       DK1         66.0   \n",
      "...                     ...                  ...       ...          ...   \n",
      "211718  2021-10-31T00:05:00  2021-10-30T22:05:00       DK1         79.0   \n",
      "211719  2021-10-31T00:05:00  2021-10-30T22:05:00       DK2         79.0   \n",
      "211720  2021-10-31T00:00:00  2021-10-30T22:00:00       DK1         75.0   \n",
      "211721  2021-10-31T00:00:00  2021-10-30T22:00:00       DK2         75.0   \n",
      "211722  2021-10-30T23:55:00  2021-10-30T21:55:00       DK1         73.0   \n",
      "\n",
      "          Month  \n",
      "0       2022-11  \n",
      "1       2022-11  \n",
      "2       2022-11  \n",
      "3       2022-11  \n",
      "4       2022-11  \n",
      "...         ...  \n",
      "211718  2021-10  \n",
      "211719  2021-10  \n",
      "211720  2021-10  \n",
      "211721  2021-10  \n",
      "211722  2021-10  \n",
      "\n",
      "[211723 rows x 5 columns]\n"
     ]
    }
   ],
   "source": [
    "import json, requests, re\n",
    "import pandas as pd\n",
    "\n",
    "#Create lists \n",
    "Minutes5UTC = []\n",
    "Minutes5DK = []\n",
    "PriceArea = []\n",
    "CO2Emission = []\n",
    "Date = []\n",
    "Month = []\n",
    "\n",
    "response = requests.get(\n",
    "    url='https://api.energidataservice.dk/dataset/CO2Emis?limit=250000')\n",
    "\n",
    "result = response.json()\n",
    "\n",
    "records = result.get('records', [])\n",
    "\n",
    "counter = 0\n",
    "for record in records:\n",
    "    #while counter < 5:\n",
    "    Minutes5DK.append(record[\"Minutes5DK\"])\n",
    "    Minutes5UTC.append(record[\"Minutes5UTC\"])\n",
    "    PriceArea.append(record[\"PriceArea\"])\n",
    "    CO2Emission.append(record[\"CO2Emission\"])\n",
    "    date_time = record[\"Minutes5DK\"]\n",
    "    date = re.findall(r\"[\\d]{4}-[\\d]{2}-[\\d]{2}\", date_time)\n",
    "    month = re.findall(r\"[\\d]{4}-[\\d]{2}\", date_time)\n",
    "    Date.append(date)\n",
    "    Month.append(month[0])\n",
    "    \n",
    "    #print(Date[counter][0])\n",
    "    check = Date[counter][0]\n",
    "    \n",
    "    #Exit after selecting one year data\n",
    "    if check == '2021-10-30':\n",
    "        break\n",
    "    counter+=1\n",
    "    \n",
    "#Store in a dataframe\n",
    "CO2_emission_DK = pd.DataFrame({\n",
    "                                 'Minutes5DK':Minutes5DK,\n",
    "                                 'Minutes5UTC':Minutes5UTC,\n",
    "                                 'PriceArea':PriceArea,\n",
    "                                 'CO2Emission':CO2Emission,\n",
    "                                 'Month':Month\n",
    "                                })\n",
    "\n",
    "#Export as csv\n",
    "import os\n",
    "os.makedirs('/blue/bsc4452/mlilyestrom/Jupyter_content', exist_ok=True)\n",
    "CO2_emission_DK.to_csv('/blue/bsc4452/mlilyestrom/Jupyter_content/CO2_emission_DK.csv')\n",
    "print(CO2_emission_DK)"
   ]
  },
  {
   "cell_type": "code",
   "execution_count": 4,
   "id": "7c407c87-e26a-4264-b36b-b139e508f11f",
   "metadata": {},
   "outputs": [
    {
     "name": "stdout",
     "output_type": "stream",
     "text": [
      "<bound method NDFrame.head of                  Minutes5DK          Minutes5UTC PriceArea  CO2Emission  \\\n",
      "932     2022-10-31T23:55:00  2022-10-31T22:55:00       DK1         78.0   \n",
      "933     2022-10-31T23:55:00  2022-10-31T22:55:00       DK2         78.0   \n",
      "934     2022-10-31T23:50:00  2022-10-31T22:50:00       DK1         74.0   \n",
      "935     2022-10-31T23:50:00  2022-10-31T22:50:00       DK2         74.0   \n",
      "936     2022-10-31T23:45:00  2022-10-31T22:45:00       DK1         67.0   \n",
      "...                     ...                  ...       ...          ...   \n",
      "211718  2021-10-31T00:05:00  2021-10-30T22:05:00       DK1         79.0   \n",
      "211719  2021-10-31T00:05:00  2021-10-30T22:05:00       DK2         79.0   \n",
      "211720  2021-10-31T00:00:00  2021-10-30T22:00:00       DK1         75.0   \n",
      "211721  2021-10-31T00:00:00  2021-10-30T22:00:00       DK2         75.0   \n",
      "211722  2021-10-30T23:55:00  2021-10-30T21:55:00       DK1         73.0   \n",
      "\n",
      "          Month  \n",
      "932     2022-10  \n",
      "933     2022-10  \n",
      "934     2022-10  \n",
      "935     2022-10  \n",
      "936     2022-10  \n",
      "...         ...  \n",
      "211718  2021-10  \n",
      "211719  2021-10  \n",
      "211720  2021-10  \n",
      "211721  2021-10  \n",
      "211722  2021-10  \n",
      "\n",
      "[210791 rows x 5 columns]>\n"
     ]
    }
   ],
   "source": [
    "#Remove data from Nov 2022.\n",
    "\n",
    "CO2_emission_DK_new = CO2_emission_DK[CO2_emission_DK['Month'].str.contains('2022-11')==False]\n",
    "print(CO2_emission_DK_new.head)"
   ]
  },
  {
   "cell_type": "code",
   "execution_count": 17,
   "id": "becaa344-8463-467e-9231-394848618de1",
   "metadata": {},
   "outputs": [
    {
     "data": {
      "text/plain": [
       "array(['DK1', 'DK2'], dtype=object)"
      ]
     },
     "execution_count": 17,
     "metadata": {},
     "output_type": "execute_result"
    }
   ],
   "source": [
    "CO2_emission_DK_new.Month.unique()\n",
    "CO2_emission_DK_new.PriceArea.unique()"
   ]
  },
  {
   "cell_type": "code",
   "execution_count": 6,
   "id": "d3a28b93-8ba7-445a-b121-b2b1284b597c",
   "metadata": {},
   "outputs": [
    {
     "name": "stdout",
     "output_type": "stream",
     "text": [
      "Minutes5DK      object\n",
      "Minutes5UTC     object\n",
      "PriceArea       object\n",
      "CO2Emission    float64\n",
      "Month           object\n",
      "dtype: object\n"
     ]
    }
   ],
   "source": [
    "#Show data types\n",
    "print(CO2_emission_DK_new.dtypes)"
   ]
  },
  {
   "cell_type": "code",
   "execution_count": 15,
   "id": "7d602c50-cf52-4e31-87db-7a3ac97603f0",
   "metadata": {},
   "outputs": [
    {
     "data": {
      "text/plain": [
       "Text(0.5, 0, 'CO2 Emission in g/kWh')"
      ]
     },
     "execution_count": 15,
     "metadata": {},
     "output_type": "execute_result"
    },
    {
     "data": {
      "image/png": "[encoded data removed]",
      "text/plain": [
       "<Figure size 432x288 with 1 Axes>"
      ]
     },
     "metadata": {
      "needs_background": "light"
     },
     "output_type": "display_data"
    }
   ],
   "source": [
    "#Generate histogram showing frequencies of varying amounts of CO2 emitted \n",
    "from matplotlib import pyplot as plt\n",
    "\n",
    "CO2_emission_DK_new['CO2Emission'].plot(kind='hist')\n",
    "plt.title('CO2 Emission between Oct 2021 - Oct 2022 in Denmark')\n",
    "plt.xlabel('CO2 Emission in g/kWh')"
   ]
  },
  {
   "cell_type": "code",
   "execution_count": 6,
   "id": "788bd9a5-d5da-4e3e-8dfd-c115c2bc69a4",
   "metadata": {},
   "outputs": [
    {
     "name": "stdout",
     "output_type": "stream",
     "text": [
      "           CO2Emission\n",
      "PriceArea             \n",
      "DK1         145.033303\n",
      "DK2         145.033986\n"
     ]
    },
    {
     "data": {
      "text/plain": [
       "Text(0, 0.5, 'CO2 Emission in g/kWh')"
      ]
     },
     "execution_count": 6,
     "metadata": {},
     "output_type": "execute_result"
    },
    {
     "data": {
      "image/png": "[encoded data removed]",
      "text/plain": [
       "<Figure size 432x288 with 1 Axes>"
      ]
     },
     "metadata": {
      "needs_background": "light"
     },
     "output_type": "display_data"
    }
   ],
   "source": [
    "import seaborn as sns\n",
    "import matplotlib.pyplot as plt\n",
    "\n",
    "sns.set_style(\"dark\")\n",
    "\n",
    "#Aggregate data by Price Area\n",
    "CO2_emission_price = CO2_emission_DK_new.groupby([\"PriceArea\"]).mean()\n",
    "print(CO2_emission_price)\n",
    "\n",
    "#Plot CO2 Emissions by Price Area\n",
    "CO2_emission_price.reset_index().plot(\n",
    "    x=\"PriceArea\", y=[\"CO2Emission\"], kind=\"bar\"\n",
    ")\n",
    "plt.title('CO2 Emitted by Price Areas in Denmark between Oct 2021 - Oct 2022')\n",
    "plt.xlabel('Denmark Price Areas')\n",
    "plt.ylabel('CO2 Emission in g/kWh')"
   ]
  },
  {
   "cell_type": "code",
   "execution_count": 7,
   "id": "2648188b-09aa-42ea-8bde-8bbf4ccf75b4",
   "metadata": {},
   "outputs": [
    {
     "name": "stdout",
     "output_type": "stream",
     "text": [
      "         CO2Emission\n",
      "Month               \n",
      "2021-10    63.946274\n",
      "2021-11   146.623264\n",
      "2021-12   196.807236\n",
      "2022-01   149.418907\n",
      "2022-02   114.380704\n",
      "2022-03   218.633131\n",
      "2022-04   150.660764\n",
      "2022-05   137.216846\n",
      "2022-06   124.284259\n",
      "2022-07    99.310743\n",
      "2022-08   136.423723\n",
      "2022-09   155.811574\n",
      "2022-10   110.491375\n"
     ]
    },
    {
     "data": {
      "text/plain": [
       "Text(0, 0.5, 'CO2 Emission in g/kWh')"
      ]
     },
     "execution_count": 7,
     "metadata": {},
     "output_type": "execute_result"
    },
    {
     "data": {
      "image/png": "[encoded data removed]",
      "text/plain": [
       "<Figure size 432x288 with 1 Axes>"
      ]
     },
     "metadata": {},
     "output_type": "display_data"
    }
   ],
   "source": [
    "import seaborn as sns\n",
    "import matplotlib.pyplot as plt\n",
    "\n",
    "sns.set_style(\"dark\")\n",
    "\n",
    "#Aggregate data by Month\n",
    "CO2_emission_month = CO2_emission_DK_new.groupby([\"Month\"]).mean()\n",
    "print(CO2_emission_month)\n",
    "\n",
    "#Plot CO2 Emissions by Month\n",
    "CO2_emission_month.reset_index().plot(\n",
    "    x=\"Month\", y=[\"CO2Emission\"], kind=\"bar\"\n",
    ")\n",
    "plt.title('CO2 Emitted each month in Denmark between Oct 2021 - Oct 2022')\n",
    "plt.xlabel('Month')\n",
    "plt.ylabel('CO2 Emission in g/kWh')"
   ]
  },
  {
   "cell_type": "code",
   "execution_count": null,
   "id": "a0bdd253-4bbc-4304-b345-893de53501b7",
   "metadata": {},
   "outputs": [],
   "source": []
  }
 ],
 "metadata": {
  "kernelspec": {
   "display_name": "UFRC Python-3.10",
   "language": "python",
   "name": "python3-3.10-ufrc"
  },
  "language_info": {
   "codemirror_mode": {
    "name": "ipython",
    "version": 3
   },
   "file_extension": ".py",
   "mimetype": "text/x-python",
   "name": "python",
   "nbconvert_exporter": "python",
   "pygments_lexer": "ipython3",
   "version": "3.10.5"
  }
 },
 "nbformat": 4,
 "nbformat_minor": 5
}
